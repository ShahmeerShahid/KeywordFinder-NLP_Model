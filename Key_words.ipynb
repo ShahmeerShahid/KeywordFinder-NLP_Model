{
  "nbformat": 4,
  "nbformat_minor": 0,
  "metadata": {
    "colab": {
      "name": "Key-words.ipynb",
      "provenance": [],
      "collapsed_sections": [],
      "authorship_tag": "ABX9TyMdhMQMRw6FW2EXedq+zLxx",
      "include_colab_link": true
    },
    "kernelspec": {
      "name": "python3",
      "display_name": "Python 3"
    }
  },
  "cells": [
    {
      "cell_type": "markdown",
      "metadata": {
        "id": "view-in-github",
        "colab_type": "text"
      },
      "source": [
        "<a href=\"https://colab.research.google.com/github/ShahmeerShahid/KeywordFinder-NLP_Model/blob/master/Key_words.ipynb\" target=\"_parent\"><img src=\"https://colab.research.google.com/assets/colab-badge.svg\" alt=\"Open In Colab\"/></a>"
      ]
    },
    {
      "cell_type": "code",
      "metadata": {
        "id": "EIEZwI22fPtc",
        "colab_type": "code",
        "outputId": "bb06757b-9527-4a39-bfd9-c496d134379a",
        "colab": {
          "base_uri": "https://localhost:8080/",
          "height": 122
        }
      },
      "source": [
        "from google.colab import drive\n",
        "drive.mount('/content/drive')"
      ],
      "execution_count": 0,
      "outputs": [
        {
          "output_type": "stream",
          "text": [
            "Go to this URL in a browser: https://accounts.google.com/o/oauth2/auth?client_id=947318989803-6bn6qk8qdgf4n4g3pfee6491hc0brc4i.apps.googleusercontent.com&redirect_uri=urn%3aietf%3awg%3aoauth%3a2.0%3aoob&response_type=code&scope=email%20https%3a%2f%2fwww.googleapis.com%2fauth%2fdocs.test%20https%3a%2f%2fwww.googleapis.com%2fauth%2fdrive%20https%3a%2f%2fwww.googleapis.com%2fauth%2fdrive.photos.readonly%20https%3a%2f%2fwww.googleapis.com%2fauth%2fpeopleapi.readonly\n",
            "\n",
            "Enter your authorization code:\n",
            "··········\n",
            "Mounted at /content/drive\n"
          ],
          "name": "stdout"
        }
      ]
    },
    {
      "cell_type": "code",
      "metadata": {
        "id": "ElGARhileNYC",
        "colab_type": "code",
        "colab": {}
      },
      "source": [
        "import pandas as pd\n",
        "df=pd.read_csv(\"/content/drive/My Drive/Uni/monster_com-job_sample.csv\")"
      ],
      "execution_count": 0,
      "outputs": []
    },
    {
      "cell_type": "code",
      "metadata": {
        "id": "awA3Q9gnUCKj",
        "colab_type": "code",
        "outputId": "e603ba5b-c709-42cf-f920-79b8ef7591d9",
        "colab": {
          "base_uri": "https://localhost:8080/",
          "height": 207
        }
      },
      "source": [
        "df.describe()"
      ],
      "execution_count": 0,
      "outputs": [
        {
          "output_type": "execute_result",
          "data": {
            "text/html": [
              "<div>\n",
              "<style scoped>\n",
              "    .dataframe tbody tr th:only-of-type {\n",
              "        vertical-align: middle;\n",
              "    }\n",
              "\n",
              "    .dataframe tbody tr th {\n",
              "        vertical-align: top;\n",
              "    }\n",
              "\n",
              "    .dataframe thead th {\n",
              "        text-align: right;\n",
              "    }\n",
              "</style>\n",
              "<table border=\"1\" class=\"dataframe\">\n",
              "  <thead>\n",
              "    <tr style=\"text-align: right;\">\n",
              "      <th></th>\n",
              "      <th>country</th>\n",
              "      <th>country_code</th>\n",
              "      <th>date_added</th>\n",
              "      <th>has_expired</th>\n",
              "      <th>job_board</th>\n",
              "      <th>job_description</th>\n",
              "      <th>job_title</th>\n",
              "      <th>job_type</th>\n",
              "      <th>location</th>\n",
              "      <th>organization</th>\n",
              "      <th>page_url</th>\n",
              "      <th>salary</th>\n",
              "      <th>sector</th>\n",
              "      <th>uniq_id</th>\n",
              "    </tr>\n",
              "  </thead>\n",
              "  <tbody>\n",
              "    <tr>\n",
              "      <th>count</th>\n",
              "      <td>22000</td>\n",
              "      <td>22000</td>\n",
              "      <td>122</td>\n",
              "      <td>22000</td>\n",
              "      <td>22000</td>\n",
              "      <td>22000</td>\n",
              "      <td>22000</td>\n",
              "      <td>20372</td>\n",
              "      <td>22000</td>\n",
              "      <td>15133</td>\n",
              "      <td>22000</td>\n",
              "      <td>3446</td>\n",
              "      <td>16806</td>\n",
              "      <td>22000</td>\n",
              "    </tr>\n",
              "    <tr>\n",
              "      <th>unique</th>\n",
              "      <td>1</td>\n",
              "      <td>1</td>\n",
              "      <td>78</td>\n",
              "      <td>1</td>\n",
              "      <td>1</td>\n",
              "      <td>18744</td>\n",
              "      <td>18759</td>\n",
              "      <td>39</td>\n",
              "      <td>8423</td>\n",
              "      <td>738</td>\n",
              "      <td>22000</td>\n",
              "      <td>1737</td>\n",
              "      <td>163</td>\n",
              "      <td>22000</td>\n",
              "    </tr>\n",
              "    <tr>\n",
              "      <th>top</th>\n",
              "      <td>United States of America</td>\n",
              "      <td>US</td>\n",
              "      <td>9/22/2016</td>\n",
              "      <td>No</td>\n",
              "      <td>jobs.monster.com</td>\n",
              "      <td>12N Horizontal Construction Engineers Job Desc...</td>\n",
              "      <td>Monster</td>\n",
              "      <td>Full Time</td>\n",
              "      <td>Dallas, TX</td>\n",
              "      <td>Healthcare Services</td>\n",
              "      <td>http://jobview.monster.com/security-officer-jo...</td>\n",
              "      <td>40,000.00 - 100,000.00 $ /year</td>\n",
              "      <td>Experienced (Non-Manager)</td>\n",
              "      <td>49938d31cd9c7c425eaeaec083db4da5</td>\n",
              "    </tr>\n",
              "    <tr>\n",
              "      <th>freq</th>\n",
              "      <td>22000</td>\n",
              "      <td>22000</td>\n",
              "      <td>6</td>\n",
              "      <td>22000</td>\n",
              "      <td>22000</td>\n",
              "      <td>104</td>\n",
              "      <td>318</td>\n",
              "      <td>6757</td>\n",
              "      <td>646</td>\n",
              "      <td>1919</td>\n",
              "      <td>1</td>\n",
              "      <td>50</td>\n",
              "      <td>4594</td>\n",
              "      <td>1</td>\n",
              "    </tr>\n",
              "  </tbody>\n",
              "</table>\n",
              "</div>"
            ],
            "text/plain": [
              "                         country  ...                           uniq_id\n",
              "count                      22000  ...                             22000\n",
              "unique                         1  ...                             22000\n",
              "top     United States of America  ...  49938d31cd9c7c425eaeaec083db4da5\n",
              "freq                       22000  ...                                 1\n",
              "\n",
              "[4 rows x 14 columns]"
            ]
          },
          "metadata": {
            "tags": []
          },
          "execution_count": 17
        }
      ]
    },
    {
      "cell_type": "code",
      "metadata": {
        "id": "88OtLwd1u-Dc",
        "colab_type": "code",
        "colab": {}
      },
      "source": [
        "import re\n",
        "from nltk.stem import WordNetLemmatizer\n",
        "from nltk.tokenize import word_tokenize\n",
        "\n",
        "def lower_and_remove_nums(text):\n",
        "  text = text.lower() # convert to lower case\n",
        "  text = re.sub(\"(\\\\d|\\\\W|\\s+)\", \" \", text).strip() # remove digits, special characters,\n",
        "                                                    # and consecutive spaces\n",
        "  return text\n",
        "def lemmatize(text):\n",
        "  # lemmatization is the process of reducing words to their base form in order to\n",
        "  # normalize them\n",
        "  lemmatizer = WordNetLemmatizer()\n",
        "  lemmatized = [lemmatizer.lemmatize(tokenized) for tokenized in word_tokenize(text)]\n",
        "  return \" \".join(lemmatized)\n",
        "def pre_process(text):\n",
        "  return lemmatize(lower_and_remove_nums(text))\n",
        "\n",
        "# We can combine both the job titles and job descriptions\n",
        "df['text'] = df['job_title'].apply(lambda x: x + \" Canada \") + df['job_description']\n",
        "df = df[['text']]\n",
        "df['text'] = df['text'].apply(lambda x: pre_process(x))"
      ],
      "execution_count": 0,
      "outputs": []
    },
    {
      "cell_type": "code",
      "metadata": {
        "id": "bw_O4M8OIU-j",
        "colab_type": "code",
        "colab": {}
      },
      "source": [
        "def get_stop_words(stop_file_path):\n",
        "    \"\"\"load stop words \"\"\"\n",
        "    \n",
        "    with open(stop_file_path, 'r', encoding=\"utf-8\") as f:\n",
        "        stopwords = f.readlines()\n",
        "        stop_set = set(m.strip() for m in stopwords)\n",
        "        return frozenset(stop_set)\n",
        "\n",
        "stopwords=get_stop_words(\"/content/drive/My Drive/Uni/stopwords.txt\")"
      ],
      "execution_count": 0,
      "outputs": []
    },
    {
      "cell_type": "code",
      "metadata": {
        "id": "9cb0lZ5nKpPM",
        "colab_type": "code",
        "colab": {}
      },
      "source": [
        "def sort_coo(coo_matrix):\n",
        "    tuples = zip(coo_matrix.col, coo_matrix.data)\n",
        "    return sorted(tuples, key=lambda x: (x[1], x[0]), reverse=True)\n",
        "\n",
        "def extract_topn_from_vector(feature_names, sorted_items, topn=20):\n",
        "    \"\"\"get the feature names and tf-idf score of top n items\"\"\"\n",
        "    \n",
        "    #use only topn items from vector\n",
        "    sorted_items = sorted_items[:topn]\n",
        "\n",
        "    score_vals = []\n",
        "    feature_vals = []\n",
        "\n",
        "    for idx, score in sorted_items:\n",
        "        fname = feature_names[idx]\n",
        "        \n",
        "        #keep track of feature name and its corresponding score\n",
        "        score_vals.append(round(score, 3))\n",
        "        feature_vals.append(feature_names[idx])\n",
        "\n",
        "    #create a tuples of feature,score\n",
        "    #results = zip(feature_vals,score_vals)\n",
        "    results= {}\n",
        "    for idx in range(len(feature_vals)):\n",
        "        results[feature_vals[idx]]=score_vals[idx]\n",
        "    \n",
        "    return results"
      ],
      "execution_count": 0,
      "outputs": []
    },
    {
      "cell_type": "code",
      "metadata": {
        "id": "0UUe51FgwcKA",
        "colab_type": "code",
        "outputId": "d28d8980-8df0-4186-df01-b27aac5d4d1c",
        "colab": {
          "base_uri": "https://localhost:8080/",
          "height": 272
        }
      },
      "source": [
        "# An example of a pre-processed job description\n",
        "from pprint import pprint\n",
        "pprint(df['text'][1])"
      ],
      "execution_count": 0,
      "outputs": [
        {
          "output_type": "stream",
          "text": [
            "('Business Reporter/Editor Job in Madison Canada The Wisconsin State Journal '\n",
            " 'is seeking a flexible and motivated reporter/editor to lead its three-person '\n",
            " 'business desk. We’re looking for an experienced journalist able to spot '\n",
            " 'trends, be a watchdog and reflect the Madison area’s vibrant entrepreneurial '\n",
            " 'community. This is a hybrid reporting and editing position that calls for a '\n",
            " 'fleet-footed, multimedia storyteller able to maximize the newspaper’s online '\n",
            " 'presentation while also editing two sections a week. Candidates must have '\n",
            " 'strong news judgment, be well versed in business news and trends and be able '\n",
            " 'to quickly prioritize coverage.At least five years’ experience reporting or '\n",
            " 'editing for digital and print platforms desired. To be considered for the '\n",
            " 'position, applicants must apply online.\\xa0As part of your online '\n",
            " 'application, please attach five samples of your work or links to five recent '\n",
            " 'stories.Wisconsin State Journal, 1901 Fish Hatchery Road, Madison, WI '\n",
            " '53713Affirmative Action/Equal Opportunity Employer/Pre-employment drug '\n",
            " 'testing appliesPI94338362Apply Here')\n"
          ],
          "name": "stdout"
        }
      ]
    },
    {
      "cell_type": "code",
      "metadata": {
        "id": "YQdkdEynAWjr",
        "colab_type": "code",
        "outputId": "03505e9f-adc6-4696-cc8c-14ab59d99b63",
        "colab": {
          "base_uri": "https://localhost:8080/",
          "height": 71
        }
      },
      "source": [
        "from sklearn.feature_extraction.text import CountVectorizer\n",
        "docs = df['text'].tolist()\n",
        "cv = CountVectorizer(max_df=0.85, stop_words=stopwords, max_features=10000)\n",
        "word_count_vector = cv.fit_transform(docs)"
      ],
      "execution_count": 0,
      "outputs": [
        {
          "output_type": "stream",
          "text": [
            "/usr/local/lib/python3.6/dist-packages/sklearn/feature_extraction/text.py:385: UserWarning: Your stop_words may be inconsistent with your preprocessing. Tokenizing the stop words generated tokens ['come', 'vis', 'viser', 'visest'] not in stop_words.\n",
            "  'stop_words.' % sorted(inconsistent))\n"
          ],
          "name": "stderr"
        }
      ]
    },
    {
      "cell_type": "code",
      "metadata": {
        "id": "4Jqj0PKdDghJ",
        "colab_type": "code",
        "colab": {}
      },
      "source": [
        "# We can look at the top 10 words in our vocabulary\n",
        "list(cv.vocabulary_.keys())[:10]"
      ],
      "execution_count": 0,
      "outputs": []
    },
    {
      "cell_type": "code",
      "metadata": {
        "id": "XmsQsdY9D1XQ",
        "colab_type": "code",
        "outputId": "311d580f-5ef2-44f7-89be-f94da5d5bfaf",
        "colab": {
          "base_uri": "https://localhost:8080/",
          "height": 34
        }
      },
      "source": [
        "from sklearn.feature_extraction.text import TfidfTransformer\n",
        "\n",
        "tfidf_transformer=TfidfTransformer(smooth_idf=True, use_idf=True)\n",
        "tfidf_transformer.fit(word_count_vector)"
      ],
      "execution_count": 0,
      "outputs": [
        {
          "output_type": "execute_result",
          "data": {
            "text/plain": [
              "TfidfTransformer(norm='l2', smooth_idf=True, sublinear_tf=False, use_idf=True)"
            ]
          },
          "metadata": {
            "tags": []
          },
          "execution_count": 21
        }
      ]
    },
    {
      "cell_type": "code",
      "metadata": {
        "id": "MEosqLJtH9QY",
        "colab_type": "code",
        "colab": {}
      },
      "source": [
        "# We can now test the transformer on a real job posting\n",
        "# Below is an example job posting from Yelp found on Indeed.ca\n",
        "test_post = \"\"\"Software Engineer - Backend Infrastructure (Toronto) Yelp’s mission is to connect users with great local businesses. We are an agile team that creates an amazing experience for millions of people and business owners. We are growing our engineering teams to build, experiment and iterate on new product offerings and improve user experience. One of our challenges is to assist our high velocity engineering teams with speedy delivery of quality products to our users.\n",
        "\n",
        "We are looking for tenacious and driven engineers to join our Engineering Effectiveness teams. Our mission is to help developers ship products quickly, reliably and securely and to provide them with the infrastructure they need to build robust and scalable features for our millions of users. We’ve evolved our service oriented architecture, developed API infrastructure for our mobile apps, built scalable CI/CD platforms and continue to do more. We also build tools to analyze tests and surface effectiveness health metrics for all engineering teams at Yelp. We support hundreds of microservices, thousands of docker containers and hundreds of developers.\n",
        "\n",
        "As an engineer in Engineering Effectiveness, you will be working closely with the rest of engineering to take on problems of scale and efficiency. Yelp engineering culture is driven by our values: we’re a cooperative team that values individual authenticity, and encourages “unboring” solutions to problems.\n",
        "What You Will Do:\n",
        "\n",
        "    Design, build and deploy scalable and reliable infrastructure for backend services and APIs.\n",
        "    Support and improve our tools for continuous build, automated testing, source control, and release management.\n",
        "    Rapidly deliver and maintain high-performance, scalable systems, tools and processes to meet the needs of our rapidly growing engineering teams.\n",
        "    Work closely with other engineers within your group and across the engineering organization.\n",
        "\n",
        "What We Are Looking For:\n",
        "\n",
        "    Experience designing scalable infrastructure and backend systems, with an understanding of operational and reliability trade-offs.\n",
        "    Familiarity with containerization technologies such as Docker, Kubernetes etc. and knowledge of distributed systems.\n",
        "    Proficient in one of Python, Java, C++, or Go.\n",
        "    Excellent interpersonal and communication skills.\n",
        "    3+ years of relevant industry experience, if you have less than 1 year of experience please consider applying for our New Grad positions.\n",
        "    We are open to remote employees for this role.\n",
        "\n",
        "\n",
        "Yelp values diversity. We’re proud to be an equal opportunity employer and consider qualified applicants without regard to race, color, religion, sex, national origin, ancestry, age, genetic information, sexual orientation, gender identity, marital or family status, veteran status, medical condition or disability.\n",
        "\n",
        "Note: Yelp does not accept agency resumes. Please do not forward resumes to any recruiting alias or employee. Yelp is not responsible for any fees related to unsolicited resumes.\"\"\"\n"
      ],
      "execution_count": 0,
      "outputs": []
    },
    {
      "cell_type": "code",
      "metadata": {
        "id": "Ms-EdrIlMlDZ",
        "colab_type": "code",
        "outputId": "70412d9a-8faa-4027-ea1f-9ffa130e2091",
        "colab": {
          "base_uri": "https://localhost:8080/",
          "height": 34
        }
      },
      "source": [
        "feature_names = cv.get_feature_names()\n",
        "tf_idf_vector = tfidf_transformer.transform(cv.transform([test_post]))\n",
        "sorted_items = sort_coo(tf_idf_vector.tocoo())\n",
        "keywords = extract_topn_from_vector(feature_names, sorted_items, 10)\n",
        "print(keywords)"
      ],
      "execution_count": 0,
      "outputs": [
        {
          "output_type": "stream",
          "text": [
            "{'scalable': 0.4, 'engineering': 0.347, 'infrastructure': 0.274, 'backend': 0.27, 'docker': 0.212, 'build': 0.195, 'effectiveness': 0.176, 'rapidly': 0.122, 'securely': 0.102, 'velocity': 0.101}\n"
          ],
          "name": "stdout"
        }
      ]
    },
    {
      "cell_type": "code",
      "metadata": {
        "id": "q2t0heNwV5Ct",
        "colab_type": "code",
        "colab": {}
      },
      "source": [
        ""
      ],
      "execution_count": 0,
      "outputs": []
    }
  ]
}